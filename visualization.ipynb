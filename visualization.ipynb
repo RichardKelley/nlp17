{
 "cells": [
  {
   "cell_type": "markdown",
   "metadata": {},
   "source": [
    "# Visualizing Embeddings "
   ]
  },
  {
   "cell_type": "markdown",
   "metadata": {},
   "source": [
    "## Tasks"
   ]
  },
  {
   "cell_type": "markdown",
   "metadata": {},
   "source": [
    "0. Find a reasonably-sized corpus to explore for this notebook - big enough to be interesting, but small enough that everything runs in a few hours on a laptop. \n",
    "2. Use Gensim's word2vec implementation to get vector representations of the words in your corpus.\n",
    "3. Visualize the word vectors in 2D with PCA or your favorite dimensionality reduction algorithm.\n",
    "4. Visualize the word vectors in 2D with t-SNE (you'll probably want to use scikit-learn's implementation).\n",
    "5. If you have the time, adapt the code from [this Tensorflow tutorial](https://github.com/tensorflow/tensorflow/blob/master/tensorflow/examples/tutorials/word2vec/word2vec_basic.py) to your corpus, and then visualize the resulting word vectors. See how they compare to the pretrained vectors."
   ]
  },
  {
   "cell_type": "markdown",
   "metadata": {},
   "source": [
    "## Notes"
   ]
  },
  {
   "cell_type": "markdown",
   "metadata": {},
   "source": [
    "You might find the following notebook from one of my previous courses helpful:\n",
    "\n",
    "[This has an example of how to use Gensim's word2vec implementation.](https://github.com/RichardKelley/intro-data-science/blob/master/week-09/gensim-pos.ipynb)\n",
    "\n",
    "Note you'll need to download the pretrained word vectors from the [word2vec website](https://code.google.com/archive/p/word2vec/)"
   ]
  },
  {
   "cell_type": "code",
   "execution_count": null,
   "metadata": {
    "collapsed": true
   },
   "outputs": [],
   "source": []
  }
 ],
 "metadata": {
  "kernelspec": {
   "display_name": "Python 2",
   "language": "python",
   "name": "python2"
  },
  "language_info": {
   "codemirror_mode": {
    "name": "ipython",
    "version": 2
   },
   "file_extension": ".py",
   "mimetype": "text/x-python",
   "name": "python",
   "nbconvert_exporter": "python",
   "pygments_lexer": "ipython2",
   "version": "2.7.12"
  }
 },
 "nbformat": 4,
 "nbformat_minor": 2
}
